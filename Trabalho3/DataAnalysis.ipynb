{
 "cells": [
  {
   "cell_type": "code",
   "execution_count": null,
   "metadata": {},
   "outputs": [],
   "source": [
    "%config InlineBackend.figure_format=\"svg\"\n",
    "\n",
    "import matplotlib.pyplot as plt\n",
    "import pandas as pd\n",
    "import numpy as np"
   ]
  },
  {
   "cell_type": "markdown",
   "metadata": {},
   "source": [
    "# Preprocess data"
   ]
  },
  {
   "cell_type": "code",
   "execution_count": null,
   "metadata": {},
   "outputs": [],
   "source": [
    "# Calculate execution time gains for every (totalsize, number of buckets) group\n",
    "def calculateGains(group):\n",
    "    for col in metrics:\n",
    "        oldstd = col + \"_std\"\n",
    "        meancol = col + \"_gain\"\n",
    "        stdcol = meancol + \"_std\"\n",
    "        base = float(group[group[\"ProcessCount\"] == 1][col])\n",
    "        basestd = float(group[group[\"ProcessCount\"] == 1][oldstd])\n",
    "        group[meancol] = base / group[col]\n",
    "        group[stdcol] = np.sqrt( (basestd / group[col])**2 + (base * group[oldstd] / group[col])**2 )\n",
    "    return group"
   ]
  },
  {
   "cell_type": "code",
   "execution_count": null,
   "metadata": {},
   "outputs": [],
   "source": [
    "# Gather collected data\n",
    "data = pd.read_csv(\"results.csv\")\n",
    "\n",
    "# Program parameters and metrics\n",
    "parameters = [\"TotalSize\", \"NumBuckets\", \"ProcessCount\"]\n",
    "metrics = [\"ProcTime\", \"MsgTime\", \"WaitTime\", \"TotalTime\"]\n",
    "\n",
    "# Get means and stds of all runs\n",
    "dataMeans = data.groupby(parameters).mean().reset_index()\n",
    "dataStds = data.groupby(parameters).std().reset_index()\n",
    "\n",
    "# Add everything to one dataframe\n",
    "for col in metrics:\n",
    "    newcol = col + \"_std\"\n",
    "    dataMeans[newcol] = dataStds[col]\n",
    "    \n",
    "# Group dataframe by totalsize and number of buckets\n",
    "# This is done to calculate the execution time gains for every of these groups\n",
    "parameters.pop()\n",
    "data = dataMeans.groupby(parameters).apply(calculateGains)\n",
    "parameters.append(\"ProcessCount\")\n",
    "        \n",
    "# Gather everything back\n",
    "del dataMeans\n",
    "del dataStds"
   ]
  },
  {
   "cell_type": "markdown",
   "metadata": {},
   "source": [
    "# Plotting function"
   ]
  },
  {
   "cell_type": "code",
   "execution_count": null,
   "metadata": {},
   "outputs": [],
   "source": [
    "def plot(ax, x, y_mean, y_cf, label, linestyle=\"-\", marker=\"o\", color=\"blue\"):\n",
    "    # Plot the mean\n",
    "    ax.plot(x, y_mean, label=label, linestyle=linestyle, color=color)\n",
    "    # Fill between lower and upper confidence intervals\n",
    "    ax.fill_between(x, y_mean - y_cf, y_mean + y_cf, alpha=0.2, color=color)\n",
    "    \n",
    "def plot_slice(df, slice_dict, xcol, ycol, conf_interval=1, num_runs=10, xscale=\"linear\", yscale=\"linear\"):\n",
    "    # Get df slice according to slice_dict keys and values\n",
    "    for key in slice_dict: df = df[df[key] == slice_dict[key]]\n",
    "        \n",
    "    # Get the values to plot\n",
    "    x, y_means, y_stds = df[xcol], df[ycol], df[ycol + \"_std\"]\n",
    "    y_ci = conf_interval * y_stds / np.sqrt(len(y_stds))\n",
    "    \n",
    "    # Plot data\n",
    "    fig, ax = plt.subplots(figsize=(12, 6))\n",
    "    plot(ax, x, y_means, y_ci, \"\")\n",
    "    plt.xlabel(xcol)\n",
    "    plt.ylabel(ycol)\n",
    "    plt.show()"
   ]
  },
  {
   "cell_type": "code",
   "execution_count": null,
   "metadata": {},
   "outputs": [],
   "source": [
    "slice_dict = {\"TotalSize\": 10000000, \"NumBuckets\": 20}\n",
    "plot_slice(dataMeans, slice_dict, \"ProcessCount\", \"TotalTime_gain\", 10)"
   ]
  }
 ],
 "metadata": {
  "kernelspec": {
   "display_name": "Python 3",
   "language": "python",
   "name": "python3"
  },
  "language_info": {
   "codemirror_mode": {
    "name": "ipython",
    "version": 3
   },
   "file_extension": ".py",
   "mimetype": "text/x-python",
   "name": "python",
   "nbconvert_exporter": "python",
   "pygments_lexer": "ipython3",
   "version": "3.8.5"
  }
 },
 "nbformat": 4,
 "nbformat_minor": 4
}
