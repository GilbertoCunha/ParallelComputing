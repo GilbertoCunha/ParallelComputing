{
 "cells": [
  {
   "cell_type": "code",
   "execution_count": null,
   "metadata": {},
   "outputs": [],
   "source": [
    "%config InlineBackend.figure_format=\"svg\"\n",
    "\n",
    "import matplotlib.pyplot as plt\n",
    "import pandas as pd\n",
    "import numpy as np"
   ]
  },
  {
   "cell_type": "code",
   "execution_count": null,
   "metadata": {},
   "outputs": [],
   "source": [
    "data = pd.read_csv(\"results.csv\")"
   ]
  },
  {
   "cell_type": "code",
   "execution_count": null,
   "metadata": {},
   "outputs": [],
   "source": [
    "def get_means_stds(df, xcol, ycol, conf_interval, num_runs):\n",
    "    assert len(df) % num_runs == 0, \"Wrong number of runs\"\n",
    "    \n",
    "    x_df, y_df = df[xcol].to_numpy(), df[ycol].to_numpy()\n",
    "    x, y_means, y_stds = [], [], []\n",
    "    for i in range(int(len(df)/num_runs)):\n",
    "        x.append(x_df[i*num_runs])\n",
    "        y_means.append(np.mean(y_df[i*num_runs:(i+1)*num_runs]))\n",
    "        std = np.std(y_df[i*num_runs:(i+1)*num_runs])\n",
    "        interval = std * conf_interval / np.sqrt(num_runs)\n",
    "        y_stds.append(interval)\n",
    "        \n",
    "    x = np.array(x)\n",
    "    y_means = np.array(y_means)\n",
    "    y_stds = np.array(y_stds)\n",
    "    \n",
    "    return x, y_means, y_stds\n",
    "\n",
    "def plot(ax, x, y_mean, y_cf, label, linestyle=\"-\", marker=\"o\", color=\"blue\"):\n",
    "    ax.plot(x, y_mean, label=label, linestyle=linestyle, color=color)\n",
    "    ax.fill_between(x, y_mean - y_cf, y_mean + y_cf, alpha=0.2, color=color)\n",
    "    \n",
    "def plot_slice(df, slice_dict, xcol, ycol, conf_interval=1, num_runs=10, xscale=\"linear\", yscale=\"linear\"):\n",
    "    # Get df slice\n",
    "    for key in slice_dict:\n",
    "        df = df[df[key] == slice_dict[key]]\n",
    "        \n",
    "    # Get x and y\n",
    "    x, y_means, y_ci = get_means_stds(df, xcol, ycol, conf_interval, num_runs)\n",
    "    \n",
    "    # Plot data\n",
    "    fig, ax = plt.subplots(figsize=(12, 6))\n",
    "    plot(ax, x, y_means, y_ci, \"\")\n",
    "    plt.show()"
   ]
  },
  {
   "cell_type": "code",
   "execution_count": null,
   "metadata": {},
   "outputs": [],
   "source": [
    "slice_dict = {\"TotalSize\": 1000000, \"NumBuckets\": 100}\n",
    "plot_slice(data, slice_dict, \"ProcessCount\", \"TotalTime\", 10)"
   ]
  },
  {
   "cell_type": "code",
   "execution_count": null,
   "metadata": {},
   "outputs": [],
   "source": []
  }
 ],
 "metadata": {
  "kernelspec": {
   "display_name": "Python 3",
   "language": "python",
   "name": "python3"
  },
  "language_info": {
   "codemirror_mode": {
    "name": "ipython",
    "version": 3
   },
   "file_extension": ".py",
   "mimetype": "text/x-python",
   "name": "python",
   "nbconvert_exporter": "python",
   "pygments_lexer": "ipython3",
   "version": "3.8.5"
  }
 },
 "nbformat": 4,
 "nbformat_minor": 4
}
